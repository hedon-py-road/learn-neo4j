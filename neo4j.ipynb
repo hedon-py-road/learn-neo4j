{
 "cells": [
  {
   "cell_type": "markdown",
   "metadata": {},
   "source": [
    "## neo4j 图数据库操作"
   ]
  },
  {
   "cell_type": "markdown",
   "metadata": {},
   "source": [
    "### 导入相关依赖\n",
    "\n",
    "```bash\n",
    "uv add py2neo # neo4j 的 python 客户端\n",
    "uv add tqdm # 进度条显示库\n",
    "uv add prettyprinter # 增强的数据格式化输出库\n",
    "```"
   ]
  },
  {
   "cell_type": "code",
   "execution_count": 1,
   "metadata": {},
   "outputs": [],
   "source": [
    "from py2neo import Graph, Node, Relationship"
   ]
  },
  {
   "cell_type": "code",
   "execution_count": 2,
   "metadata": {},
   "outputs": [],
   "source": [
    "import json\n",
    "from tqdm import tqdm\n",
    "from pprint import pprint"
   ]
  },
  {
   "cell_type": "markdown",
   "metadata": {},
   "source": [
    "### 连接到 Neo4j 数据库"
   ]
  },
  {
   "cell_type": "code",
   "execution_count": 5,
   "metadata": {},
   "outputs": [],
   "source": [
    "graph = Graph(\"bolt://localhost:7687\", user=\"neo4j\", password=\"neo4j123\", name=\"neo4j\")"
   ]
  },
  {
   "cell_type": "markdown",
   "metadata": {},
   "source": [
    "### 解析数据"
   ]
  },
  {
   "cell_type": "markdown",
   "metadata": {},
   "source": [
    "#### 公司事件数据解析"
   ]
  },
  {
   "cell_type": "code",
   "execution_count": 16,
   "metadata": {},
   "outputs": [
    {
     "name": "stdout",
     "output_type": "stream",
     "text": [
      "{'content': '据美国《纽约时报》29日报道，全球航空业放缓正对波音公司造成巨大打击。波音公司在29日表示，将裁员约1.6万人，此前该公司报告称，今年前三个月收入锐减26%。波音首席执行官戴维·卡尔霍恩在给员工的一份报告中说，“全球疫情大流行改变了人们的生活和工作方式。它正在改变我们的行业，我们面临着完全意想不到的挑战。”一家行业商会称，全世界的航空公司都在努力生存，到今年年底，航空业亏损总额预计将超过3000亿美元。因此，许多航空公司正在推迟购买、交付和维修。波音公司表示，正在放缓飞机的生产，包括陷入困境的737 '\n",
      "            'Max、787、777和777x机型。该公司还在探索从美国联邦政府或金融市场筹集更多资金的方法。此次裁员约占波音员工总数的10%，对于那些受经济衰退影响最大的部门——商用飞机和服务行业——的员工来说，裁员幅度将更大，这些部门的裁员幅度约为15%。卡尔霍恩在报告中对雇员表示：“我知道，在一个已经充满挑战的时期，这个消息是一个打击。我很遗憾这会对你们当中的许多人产生影响。我衷心希望还有其他方法。”波音公司报告第一季度净亏损6.41亿美元，而去年同期则盈利21亿美元。该公司此前曾表示，预计航空旅行在三年内不会恢复到疫情暴发前的水平，而且很可能还需要几年时间，旅行才能恢复到以前的长期增长率。波音的商用飞机业务在第一季度受到737 '\n",
      "            'Max机型和新冠病毒大流行的打击尤其严重，该业务的收入比去年同期下降近50%，降至62亿美元。公司总收入下降至169亿美元。该公司在1月至3月仅收到49笔新订单，有196笔订单被取消。西南航空(Southwest '\n",
      "            'Airlines)在28日表示，该公司一直在就减少今年将接收的737 '\n",
      "            'Max飞机数量进行谈判。西南航空表示，到2021年底，该公司最多将接收48架Max喷气式飞机，而不是此前预期的107架。波音表示，希望通过包括买断和提前退休的自愿方式来实现裁员目标。波音公司上周告诉员工，接受买断的员工依照在波音工作时长，每年将获得3个月的医疗保险和1周的工资，最高可达26年。员工必须在周一之前表明他们对买断的兴趣。如果获得批准，他们将在6月初离职。报道称，波音的裁员将可能不成比例地集中在波音位于华盛顿州和南卡罗来纳州的设施，这是波音公司三大主要民用飞机制造厂的所在地。这些设施停运了一周，中断了客机的生产，但也影响了波音的国防和航天业务。在波音努力应对疫情影响的同时，该公司本周也表达了对供应商运营状况的担忧，波音公司大约70%的收入来自这些供应商。卡尔霍恩27日对股东们说，“目前，我们的团队关注的是，在我们的客户再次购买飞机和相关服务之前，保持我们的行业和供应链流动性的最佳方式。”他指出，为了达到这个目的，公司已经申请了贷款，削减了成本，暂停了股息支付和股票回购。波音手头有155亿美元现金，但计划很快筹集更多资金。在29日接受美国CNBC电视台采访时，卡尔霍恩没有具体说明其中一部分是否会以联邦援助的形式筹集。',\n",
      " 'label': [{'arguments': [{'时间': '29日'}, {'主体': '波音公司'}], 'event_type': '裁员'},\n",
      "           {'arguments': [{'主体': '波音'}, {'数值': ['比去年同期下降近50%']}],\n",
      "            'event_type': '主营业务收入减少'}],\n",
      " 'title': '疫情冲击下波音将裁员10％，员工可选买断工龄或提前退休'}\n"
     ]
    }
   ],
   "source": [
    "event_type_file = './data/iree.json'\n",
    "event_type_data =[]\n",
    "with open(event_type_file, 'r', encoding='utf-8') as file:\n",
    "    for line in file.readlines():\n",
    "        event_type_data.append(json.loads(line.strip()))\n",
    "\n",
    "pprint(event_type_data[2], sort_dicts=True)"
   ]
  },
  {
   "cell_type": "markdown",
   "metadata": {},
   "source": [
    "#### 投资数据"
   ]
  },
  {
   "cell_type": "code",
   "execution_count": 17,
   "metadata": {},
   "outputs": [],
   "source": [
    "invest_file = './data/invest-on-invent-KG.json'\n",
    "with open(invest_file, 'r', encoding='utf-8') as file:\n",
    "    invest_data = json.load(file)"
   ]
  },
  {
   "cell_type": "markdown",
   "metadata": {},
   "source": [
    "##### 投资者数据"
   ]
  },
  {
   "cell_type": "code",
   "execution_count": 18,
   "metadata": {},
   "outputs": [
    {
     "data": {
      "text/plain": [
       "{'@id': '0',\n",
       " '@type': 'investor',\n",
       " 'name': '瑞华林投资',\n",
       " 'relationship': {'investCompany': [{'@id': '5617',\n",
       "    '@type': 'company',\n",
       "    'round': '新三板定增',\n",
       "    'date': '2016-03-04'}]}}"
      ]
     },
     "execution_count": 18,
     "metadata": {},
     "output_type": "execute_result"
    }
   ],
   "source": [
    "invest_data['@graph'][0]"
   ]
  },
  {
   "cell_type": "markdown",
   "metadata": {},
   "source": [
    "##### 公司信息"
   ]
  },
  {
   "cell_type": "code",
   "execution_count": 36,
   "metadata": {},
   "outputs": [
    {
     "data": {
      "text/plain": [
       "{'@id': '5323',\n",
       " '@type': 'company',\n",
       " 'name': '福建博思软件股份有限公司',\n",
       " 'alterNames': ['博思软件',\n",
       "  '福建博思软件',\n",
       "  '博思软件公司',\n",
       "  '福建省博思软件',\n",
       "  '福建博思软件公司',\n",
       "  '福建省博思软件公司'],\n",
       " 'establishDate': '2001-09-05',\n",
       " 'address': '闽侯县上街镇高新大道5号',\n",
       " 'relationship': {'applyPatent': [{'@id': '17314', '@type': 'patent'},\n",
       "   {'@id': '17315', '@type': 'patent'},\n",
       "   {'@id': '17316', '@type': 'patent'},\n",
       "   {'@id': '17317', '@type': 'patent'},\n",
       "   {'@id': '17318', '@type': 'patent'},\n",
       "   {'@id': '17319', '@type': 'patent'},\n",
       "   {'@id': '17320', '@type': 'patent'}]}}"
      ]
     },
     "execution_count": 36,
     "metadata": {},
     "output_type": "execute_result"
    }
   ],
   "source": [
    "invest_data['@graph'][5323]"
   ]
  },
  {
   "cell_type": "markdown",
   "metadata": {},
   "source": [
    "##### 专利信息"
   ]
  },
  {
   "cell_type": "code",
   "execution_count": 20,
   "metadata": {},
   "outputs": [
    {
     "data": {
      "text/plain": [
       "{'@id': '141764',\n",
       " '@type': 'patent',\n",
       " 'name': '一种基于DLL的软件架构',\n",
       " 'patentType': '发明公布'}"
      ]
     },
     "execution_count": 20,
     "metadata": {},
     "output_type": "execute_result"
    }
   ],
   "source": [
    "invest_data['@graph'][141764]"
   ]
  },
  {
   "cell_type": "markdown",
   "metadata": {},
   "source": [
    "### 数据处理\n",
    "\n",
    "- 投资数据中：投资者和投资公司、公司和专利 id 的对应关系\n",
    "- 投资数据的公司名称和事件数据名称的对应关系"
   ]
  },
  {
   "cell_type": "code",
   "execution_count": 15,
   "metadata": {},
   "outputs": [],
   "source": [
    "obj_by_id = {} # key: id, value: object\n",
    "\n",
    "for ele in invest_data['@graph']:\n",
    "    obj_by_id[ele['@id']] = ele"
   ]
  },
  {
   "cell_type": "markdown",
   "metadata": {},
   "source": [
    "#### 提取事件数据中的公司信息\n",
    "\n",
    "{'content': '...',\n",
    " 'label': [{'arguments': [{'时间': '29日'}, {'主体': '波音公司'}], 'event_type': '裁员'},\n",
    "           {'arguments': [{'主体': '波音'}, {'数值': ['比去年同期下降近50%']}],\n",
    "            'event_type': '主营业务收入减少'}],\n",
    " 'title': '疫情冲击下波音将裁员10％，员工可选买断工龄或提前退休'}\n",
    "\n",
    "如上所示，content.label[i].arguments[j].主体 的值为公司名称，需要提取出来"
   ]
  },
  {
   "cell_type": "code",
   "execution_count": 24,
   "metadata": {},
   "outputs": [
    {
     "data": {
      "text/plain": [
       "['小米集团',\n",
       " '小米',\n",
       " '格力电器',\n",
       " '波音公司',\n",
       " '波音',\n",
       " 'GoPro',\n",
       " '得邦照明股份有限公司',\n",
       " '得邦照明',\n",
       " '横店集团得邦工程塑料有限公司',\n",
       " '汉邦高科']"
      ]
     },
     "execution_count": 24,
     "metadata": {},
     "output_type": "execute_result"
    }
   ],
   "source": [
    "ignore_names = ['电器', '600万股', '公司', '135万元', '2018年', '新产业'] # 脏数据\n",
    "event_type_company_names = {}\n",
    "for data in event_type_data:\n",
    "    for label in data['label']:\n",
    "        if 'arguments' in label:\n",
    "            for arg in label['arguments']:\n",
    "                for key, value in arg.items():\n",
    "                    if key == '主体':\n",
    "                        if value in ignore_names:\n",
    "                            continue\n",
    "                        event_type_company_names[value] = 1\n",
    "\n",
    "list(event_type_company_names.keys())[:10]"
   ]
  },
  {
   "cell_type": "markdown",
   "metadata": {},
   "source": [
    "#### 提取投资关系数据中的公司名称\n",
    "\n",
    "{'@id': '6382',\n",
    " '@type': 'company',\n",
    " 'name': '广州中设机器人智能装备股份有限公司',\n",
    " 'alterNames': ['中设机器人智能装备',\n",
    "  '中设机器人智能装备公司',\n",
    "  '广州中设机器人智能装备',\n",
    "  '广州市中设机器人智能装备',\n",
    "  '广州中设机器人智能装备公司',\n",
    "  '广州市中设机器人智能装备公司'],\n",
    " 'establishDate': '2008-07-23',\n",
    " 'address': '广州市黄埔区云埔工业区方达路6号101房',\n",
    " 'relationship': {'applyPatent': []}}\n",
    "\n",
    " 如上所示，当 @type 为 company 时，表示这个公司数据，需要提取 name 字段"
   ]
  },
  {
   "cell_type": "code",
   "execution_count": 25,
   "metadata": {},
   "outputs": [
    {
     "name": "stdout",
     "output_type": "stream",
     "text": [
      "['广州博鳌纵横网络科技有限公司',\n",
      " '福建博思软件股份有限公司',\n",
      " '深圳优地科技有限公司',\n",
      " '杭州群核信息技术有限公司',\n",
      " '昆山希盟自动化科技有限公司',\n",
      " '北京小爱智能科技有限公司',\n",
      " '奇安信科技集团股份有限公司',\n",
      " '北京大米科技有限公司',\n",
      " '北京诸葛找房信息技术有限公司',\n",
      " '苏州奥易克斯汽车电子有限公司']\n"
     ]
    }
   ],
   "source": [
    "invest_company_names = []\n",
    "for ele in invest_data['@graph']:\n",
    "    if ele['@type'] == \"company\":\n",
    "        invest_company_names.append(ele['name'])\n",
    "\n",
    "pprint(invest_company_names[:10])"
   ]
  },
  {
   "cell_type": "markdown",
   "metadata": {},
   "source": [
    "#### 建立投资关系数据和事件数据中的公司关系\n",
    "\n",
    "因为投资关系数据中的公司名称是完整的，所以以投资关系数据中的公司名称为基准，进行字符串包含判断，如果包含，则建立关系。"
   ]
  },
  {
   "cell_type": "code",
   "execution_count": 29,
   "metadata": {},
   "outputs": [
    {
     "name": "stdout",
     "output_type": "stream",
     "text": [
      "['小米科技有限责任公司']\n",
      "['瑞幸咖啡(北京)有限公司']\n"
     ]
    }
   ],
   "source": [
    "event_type_company_dict = {} # key: 事件关系中的公司名称；value: 投资数据中的公司名称列表\n",
    "for company in event_type_company_names.keys():\n",
    "    for iv_name in invest_company_names:\n",
    "        if company in iv_name:\n",
    "            event_type_company_dict.setdefault(company, []).append(iv_name) # 建立一对多关系\n",
    "\n",
    "pprint(event_type_company_dict['小米'])\n",
    "pprint(event_type_company_dict['瑞幸咖啡'])"
   ]
  },
  {
   "cell_type": "markdown",
   "metadata": {},
   "source": [
    "### 构建图数据库"
   ]
  },
  {
   "cell_type": "markdown",
   "metadata": {},
   "source": [
    "#### 构建节点和边\n",
    "\n",
    "- 公司和事件\n",
    "- 公司和投资者\n",
    "- 公司和专利"
   ]
  },
  {
   "cell_type": "markdown",
   "metadata": {},
   "source": [
    "##### 公司和事件\n",
    "\n",
    "```json\n",
    "{\n",
    "    \"content\": \"...\",\n",
    "    \"label\": [\n",
    "        {\n",
    "            \"arguments\": [\n",
    "                {\n",
    "                    \"时间\": \"29日\"\n",
    "                },\n",
    "                {\n",
    "                    \"主体\": \"波音公司\"\n",
    "                }\n",
    "            ],\n",
    "            \"event_type\": \"裁员\"\n",
    "        },\n",
    "        {\n",
    "            \"arguments\": [\n",
    "                {\n",
    "                    \"主体\": \"波音\"\n",
    "                },\n",
    "                {\n",
    "                    \"数值\": [\n",
    "                        \"比去年同期下降近50%\"\n",
    "                    ]\n",
    "                }\n",
    "            ],\n",
    "            \"event_type\": \"主营业务收入减少\"\n",
    "        }\n",
    "    ],\n",
    "    \"title\": \"疫情冲击下波音将裁员10％，员工可选买断工龄或提前退休\"\n",
    "}\n",
    "```"
   ]
  },
  {
   "cell_type": "code",
   "execution_count": 32,
   "metadata": {},
   "outputs": [
    {
     "name": "stderr",
     "output_type": "stream",
     "text": [
      "100%|██████████| 7058/7058 [00:41<00:00, 169.19it/s]\n"
     ]
    }
   ],
   "source": [
    "for data in tqdm(event_type_data):\n",
    "    title = data['title']\n",
    "    content = data['content']\n",
    "\n",
    "    for label in data['label']:\n",
    "        event_type = label['event_type']\n",
    "        event_type_node = Node(\"EventType\", name=event_type)  # 建立事件类型节点\n",
    "        graph.merge(event_type_node, \"EventType\", \"name\") # 添加到图数据库中，name 是主键属性的名称\n",
    "\n",
    "        if 'arguments' in label:\n",
    "            company_name = ''\n",
    "            tmp_args = {}\n",
    "            for arg in label['arguments']:\n",
    "                for key, value in arg.items():\n",
    "                    if key == '主体':\n",
    "                        company_name = value\n",
    "                    else:\n",
    "                        tmp_args[key] = value\n",
    "                if company_name in event_type_company_dict:\n",
    "                    for cname in event_type_company_dict[company_name]:\n",
    "                        company_node = Node(\"Company\", name=cname) # 建立公司节点\n",
    "                        graph.merge(company_node, \"Company\", \"name\")\n",
    "\n",
    "                        relationship = Relationship(company_node, \"HAPPEN\", event_type_node) # 建立公司与事件的关系\n",
    "                        for key ,value in tmp_args.items():\n",
    "                            relationship[key] = value\n",
    "                        relationship['title'] = title\n",
    "                        relationship['content'] = content\n",
    "                        graph.create(relationship) # 存储到图数据库中\n"
   ]
  },
  {
   "cell_type": "markdown",
   "metadata": {},
   "source": [
    "##### 公司与专利\n",
    "\n",
    "```json\n",
    "{\n",
    "    \"@id\": \"5323\",\n",
    "    \"@type\": \"company\",\n",
    "    \"name\": \"福建博思软件股份有限公司\",\n",
    "    \"alterNames\": [\"博思软件\"],\n",
    "    \"establishDate\": \"2001-09-05\",\n",
    "    \"address\": \"闽侯县上街镇高新大道5号\",\n",
    "    \"relationship\": {\n",
    "        \"applyPatent\": [\n",
    "            {\n",
    "                \"@id\": \"17314\",\n",
    "                \"@type\": \"patent\"\n",
    "            }\n",
    "        ]\n",
    "    }\n",
    "}\n",
    "```"
   ]
  },
  {
   "cell_type": "code",
   "execution_count": 40,
   "metadata": {},
   "outputs": [
    {
     "name": "stderr",
     "output_type": "stream",
     "text": [
      "  0%|          | 0/394204 [00:00<?, ?it/s]\n"
     ]
    }
   ],
   "source": [
    "for ele in tqdm(invest_data['@graph']):\n",
    "    if ele['@type'] == \"company\":\n",
    "        name = ele['name']\n",
    "        alter_names = ele['alterNames']\n",
    "        establish_date = ele['establishDate']\n",
    "        address = ele['address']\n",
    "        apply_patent = ele['relationship']['applyPatent']\n",
    "\n",
    "        company_node = Node(\"Company\", name=name, establishDate=establish_date, address=address) # 建立公司节点\n",
    "        graph.merge(company_node, \"Company\", \"name\")\n",
    "\n",
    "        if len(apply_patent):\n",
    "            for patent in apply_patent:\n",
    "                patent_name = obj_by_id[patent['@id']]['name']\n",
    "                patent_node = Node(\"Patent\", name=patent_name) # 建立专利节点\n",
    "                graph.merge(patent_node, \"Patent\", \"name\")\n",
    "\n",
    "                relationship = Relationship(company_node, \"HAVE\", patent_node) # 公司与专利的关系\n",
    "                graph.create(relationship)"
   ]
  },
  {
   "cell_type": "markdown",
   "metadata": {},
   "source": [
    "##### 公司与投资者\n",
    "\n",
    "\n",
    "```json\n",
    "{\n",
    "    \"@id\": \"0\",\n",
    "    \"@type\": \"investor\",\n",
    "    \"name\": \"瑞华林投资\",\n",
    "    \"relationship\": {\n",
    "        \"investCompany\": [\n",
    "            {\n",
    "                \"@id\": \"5617\",\n",
    "                \"@type\": \"company\",\n",
    "                \"round\": \"新三板定增\",\n",
    "                \"date\": \"2016-03-04\"\n",
    "            }\n",
    "        ]\n",
    "    }\n",
    "}\n",
    "```"
   ]
  },
  {
   "cell_type": "code",
   "execution_count": null,
   "metadata": {},
   "outputs": [],
   "source": [
    "for ele in tqdm(invest_data['@graph']):\n",
    "    if ele['@type'] == \"investor\":\n",
    "        investor_node = Node(\"Investor\", name=ele['name']) # 建立投资者节点\n",
    "        graph.merge(investor_node, \"Investor\", \"name\")\n",
    "\n",
    "        invest_company = ele['relationship']['investCompany']\n",
    "        for invest in invest_company:\n",
    "            acompany_ele = obj_by_id[invest['@id']]\n",
    "            name = acompany_ele['name']\n",
    "            alter_names = acompany_ele['alterNames']\n",
    "            establish_date = acompany_ele['establishDate']\n",
    "            address = acompany_ele['address']\n",
    "            \n",
    "            company_node = Node(\"Company\", name=name, establishDate=establish_date, address=address) # 建立公司节点\n",
    "            graph.merge(company_node, \"Company\", \"name\")\n",
    "\n",
    "            relationship = Relationship(investor_node, \"INVEST\", company_node) # 建立投资者和公司的关系\n",
    "            relationship['date'] = invest['date']\n",
    "            relationship['round'] = invest['round']\n",
    "            graph.create(relationship)"
   ]
  }
 ],
 "metadata": {
  "kernelspec": {
   "display_name": ".venv",
   "language": "python",
   "name": "python3"
  },
  "language_info": {
   "codemirror_mode": {
    "name": "ipython",
    "version": 3
   },
   "file_extension": ".py",
   "mimetype": "text/x-python",
   "name": "python",
   "nbconvert_exporter": "python",
   "pygments_lexer": "ipython3",
   "version": "3.12.4"
  }
 },
 "nbformat": 4,
 "nbformat_minor": 2
}
